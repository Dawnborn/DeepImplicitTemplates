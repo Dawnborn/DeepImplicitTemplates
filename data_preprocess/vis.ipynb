{
 "cells": [
  {
   "cell_type": "code",
   "execution_count": null,
   "metadata": {},
   "outputs": [],
   "source": []
  },
  {
   "cell_type": "code",
   "execution_count": null,
   "metadata": {},
   "outputs": [],
   "source": [
    "\"\"\"\n",
    "/home/wiss/lhao/storage/user/hjp/ws_dditnach/DeepImplicitTemplates/examples/sofas_dit_manifoldplus_scanarcw/Reconstructions/2000/Meshes/ScanARCW/04256520/2f6f16e5a1d36f3fefc579970fcfc006_scene0296_00_ins_4.ply\n",
    "\"\"\""
   ]
  },
  {
   "cell_type": "code",
   "execution_count": null,
   "metadata": {},
   "outputs": [],
   "source": [
    "import numpy as np\n",
    "# Read XYZ trajectory data from a file (assuming frame numbers in the first column)\n",
    "# raw_path = \"/home/wiss/lhao/storage/user/hjp/ws_optix/assets/ttt/tt/Scenes/xml/000scene0551_00/60frame0551_00/cam60_poses.txt\"\n",
    "raw_path = \"/home/wiss/lhao/storage/user/hjp/ws_optix/assets/ttt/tt/Scenes/xml/000scene0551_00/60frame0551_00/cam60.txt\"\n",
    "data = np.loadtxt(raw_path,skiprows=1)\n",
    "data = data[::3,:]\n",
    "\n",
    "data = \n"
   ]
  },
  {
   "cell_type": "code",
   "execution_count": null,
   "metadata": {},
   "outputs": [],
   "source": [
    "import plotly.graph_objs as go\n",
    "\n",
    "trace = go.Scatter3d(x=x_coords, y=y_coords, z=z_coords, mode='lines+text', text=frame_numbers)\n",
    "layout = go.Layout(scene=dict(\n",
    "        aspectmode='data',  # Set the aspect ratio to 'cube' for equal scales\n",
    "        xaxis_title='X',\n",
    "        yaxis_title='Y',\n",
    "        zaxis_title='Z',\n",
    "    ),)\n",
    "fig = go.Figure(data=[trace], layout=layout)\n",
    "fig.show()"
   ]
  }
 ],
 "metadata": {
  "language_info": {
   "name": "python"
  },
  "orig_nbformat": 4
 },
 "nbformat": 4,
 "nbformat_minor": 2
}
